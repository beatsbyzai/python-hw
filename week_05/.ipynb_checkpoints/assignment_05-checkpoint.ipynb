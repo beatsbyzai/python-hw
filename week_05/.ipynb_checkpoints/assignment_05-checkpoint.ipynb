{
 "cells": [
  {
   "cell_type": "markdown",
   "metadata": {},
   "source": [
    "### Getting into Class\n",
    "This exercise is to get you familiar with the idea of creating your own class object.\n",
    "\n",
    "This will create a generic Student class that we will be able to extend with other class objects.\n",
    "\n",
    "Your Class should be able to create an Student object instance with the following properties\n",
    "\n",
    "- Construct with default attributes for School Name, Student First Name, and Last Name\n",
    "- Methods to update any of these above attributes\n",
    "- An overloaded method for the str() function to return the Student attributes in a string formatted sentence \"{FirstName} {LastName} is a student of {SchoolName}\"\n",
    "\n",
    "You are free to implement this class however you like. The testing code is included below. Don't be afraid to check the [documentation]('https://docs.python.org/3/tutorial/classes.html') or any other resources you would like! Internet searching is a big part of promgramming"
   ]
  },
  {
   "cell_type": "code",
   "execution_count": 13,
   "metadata": {},
   "outputs": [],
   "source": [
    "# code here\n",
    "# define class\n",
    "\n",
    "class Student:\n",
    "    def __init__(self, schoolName, firstName, lastName):\n",
    "        self.schoolName = schoolName\n",
    "        self.firstName = firstName\n",
    "        self.lastName = lastName\n",
    "        \n",
    "    def updateSchool(self, updatedschoolName):\n",
    "        self.schoolName = updatedschoolName \n",
    "        \n",
    "    def updateName(self, updatedFirstName, updatedLastName):\n",
    "        self.firstName = updatedFirstName\n",
    "        self.lastName = updatedLastName \n",
    "        \n",
    "    def __str__(self):\n",
    "        return \"%s %s is a student of %s.\" %(self.firstName, self.lastName, self.schoolName)\n",
    "    "
   ]
  },
  {
   "cell_type": "code",
   "execution_count": 14,
   "metadata": {},
   "outputs": [
    {
     "name": "stdout",
     "output_type": "stream",
     "text": [
      "Zainab Aliyu is a student of The New School.\n"
     ]
    }
   ],
   "source": [
    "# initialize class\n",
    "\n",
    "student_1 = Student(\"The New School\", \"Zainab\", \"Aliyu\")\n",
    "\n",
    "print(str(student_1))"
   ]
  },
  {
   "cell_type": "code",
   "execution_count": 16,
   "metadata": {},
   "outputs": [
    {
     "name": "stdout",
     "output_type": "stream",
     "text": [
      "Zainab Aliyu is a student of Parsons.\n"
     ]
    }
   ],
   "source": [
    "# update\n",
    "\n",
    "student_1.updateSchool(\"Parsons\")\n",
    "print(str(student_1))"
   ]
  },
  {
   "cell_type": "markdown",
   "metadata": {},
   "source": [
    "### Challenges\n",
    "Before looking at any of these specific challenges, look back at the class you've created. Are there features of Students that you think are missing? Go ahead and just try and add them yourself! These can be things like registered classes, graduation year, enrollment status, etc. Anything you can think of! Class flexibility is designed so that your approach reflects your own personal understanding of the problem. But for a more structured challenge read on...\n",
    "\n",
    "The challenges here extend the functionality of the base class. These are in topics of class attributes, magic methods, inheritance, and iteration. Don't be afraid to check python documentation on these problems to look for implementation help! No one codes alone!\n",
    "\n",
    "Class is where your own ideas get to come through as a programmer and designer. So there is no one right way to any of these. Give it your best shot and also be creative!\n",
    "\n",
    "__Challenge #1__ add an class wide attribute student count and give every student an ID\n",
    "Create a Class wide count of students that tracks how many students have been created. Then, usi that attriute to give every student a unique ID.\n",
    "\n",
    "__Challenge #2__ add a behavioral method to the students\n",
    "What kind of behavior should a student have? What do they do? Do they study? Research? Maybe a student can declare a major or focus of study?\n",
    "\n",
    "Implement the method and the appropriate attributes that allows a student to print a statement about themselves. These can be as simple as \"say my own name\" or something like printing the student's favorite faculty member\n",
    "\n",
    "__Challenge #3__ create a subclass called Graduate Student\n",
    "The Graduate student should inherit from the base Student class. How do you think Graduate Students should be differentiated from the base Student? Add your own attribute or methods that you think they should have.\n",
    "\n",
    "__Challenge #4__ Create a School Class that has Students as attributes\n",
    "This is a separate class that is called School that can enroll Students, and graduate students. Maybe it can track its own endowment. This would be a large class that is meant to process these students in some way."
   ]
  },
  {
   "cell_type": "code",
   "execution_count": 30,
   "metadata": {},
   "outputs": [
    {
     "name": "stdout",
     "output_type": "stream",
     "text": [
      "0\n",
      "1\n",
      "2\n"
     ]
    }
   ],
   "source": [
    "# challenge 1\n",
    "\n",
    "class Student:\n",
    "    \n",
    "    numberStudents = 0\n",
    "    \n",
    "    def __init__(self, schoolName, firstName, lastName):\n",
    "        self.schoolName = schoolName\n",
    "        self.firstName = firstName\n",
    "        self.lastName = lastName\n",
    "        self.studentId = Student.numberStudents \n",
    "        Student.numberStudents+=1\n",
    "        \n",
    "    def updateSchool(self, updatedschoolName):\n",
    "        self.schoolName = updatedschoolName \n",
    "        \n",
    "    def updateName(self, updatedFirstName, updatedLastName):\n",
    "        self.firstName = updatedFirstName\n",
    "        self.lastName = updatedLastName \n",
    "        \n",
    "    def __str__(self):\n",
    "        return \"%s %s is a student of %s.\" %(self.firstName, self.lastName, self.schoolName) \n",
    "         \n",
    "         \n",
    "    \n",
    "student_1 = Student(\"The New School\", \"Zainab\", \"Aliyu\")\n",
    "print(student_1.studentId)\n",
    "student_2 = Student(\"The New School\", \"Zainab\", \"Aliyu\")\n",
    "print(student_2.studentId)\n",
    "student_3 = Student(\"The New School\", \"Zainab\", \"Aliyu\")\n",
    "print(student_3.studentId)"
   ]
  },
  {
   "cell_type": "code",
   "execution_count": 47,
   "metadata": {},
   "outputs": [
    {
     "name": "stdout",
     "output_type": "stream",
     "text": [
      "Hi my name is Zainab Aliyu and I am studying Design and Technology.\n"
     ]
    }
   ],
   "source": [
    "# challenge 2\n",
    "\n",
    "class Student:\n",
    "    \n",
    "    numberStudents = 0\n",
    "    \n",
    "    def __init__(self, schoolName, firstName, lastName):\n",
    "        self.schoolName = schoolName\n",
    "        self.firstName = firstName\n",
    "        self.lastName = lastName  \n",
    "        self.studentId = Student.numberStudents \n",
    "        Student.numberStudents+=1 \n",
    "        \n",
    "    def updateSchool(self, updatedschoolName):\n",
    "        self.schoolName = updatedschoolName \n",
    "        \n",
    "    def updateName(self, updatedFirstName, updatedLastName):\n",
    "        self.firstName = updatedFirstName\n",
    "        self.lastName = updatedLastName \n",
    "        \n",
    "    def __str__(self):\n",
    "        return \"%s %s is a student of %s.\" %(self.firstName, self.lastName, self.schoolName)  \n",
    "    \n",
    "    def defineMajor(self, major): \n",
    "        self.major = major\n",
    "        return \"Hi my name is %s %s and I am studying %s.\" %(self.firstName, self.lastName, self.major)\n",
    "\n",
    "student_1 = Student(\"The New School\", \"Zainab\", \"Aliyu\")\n",
    "print(student_1.defineMajor(\"Design and Technology\"))"
   ]
  },
  {
   "cell_type": "code",
   "execution_count": 52,
   "metadata": {},
   "outputs": [
    {
     "name": "stdout",
     "output_type": "stream",
     "text": [
      "Zainab Aliyu is a Masters student at Parsons studying Design and Technology.\n"
     ]
    }
   ],
   "source": [
    "# challenge 3\n",
    "\n",
    "class GradStud(Student):\n",
    "    def __init__(self, schoolName, firstName, lastName):\n",
    "        super().__init__(schoolName, firstName, lastName)   \n",
    "        \n",
    "    def declaration(self, level, study): \n",
    "        self.level = level\n",
    "        self.study = study\n",
    "        return \"%s %s is a %s student at %s studying %s.\" %(self.firstName, self.lastName, self.level, self.schoolName, self.study)\n",
    "\n",
    "student_1 = GradStud(\"Parsons\", \"Zainab\", \"Aliyu\")\n",
    "print(student_1.declaration(\"Masters\", \"Design and Technology\"))"
   ]
  },
  {
   "cell_type": "code",
   "execution_count": null,
   "metadata": {},
   "outputs": [],
   "source": [
    "# challenge 4"
   ]
  }
 ],
 "metadata": {
  "kernelspec": {
   "display_name": "Python 3",
   "language": "python",
   "name": "python3"
  },
  "language_info": {
   "codemirror_mode": {
    "name": "ipython",
    "version": 3
   },
   "file_extension": ".py",
   "mimetype": "text/x-python",
   "name": "python",
   "nbconvert_exporter": "python",
   "pygments_lexer": "ipython3",
   "version": "3.8.3"
  }
 },
 "nbformat": 4,
 "nbformat_minor": 4
}
