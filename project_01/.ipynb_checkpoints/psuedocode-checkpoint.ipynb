{
 "cells": [
  {
   "cell_type": "markdown",
   "metadata": {},
   "source": [
    "# Notes from Scrapism:\n",
    "Using libraries \"requests\" (lets you download websites) and beautiful soup (lets you parse websites). Web scraping involves two steps: downloading the site and then scraping the contents of the site. \n",
    "\n",
    "# Analysis of the site to be scraped:\n",
    "I will be scraping this web html archive: <a href=\"\"></a> \n",
    "\n",
    "\n",
    "# Pseudo Code\n",
    "\n",
    "// This program will scrape an online website delineating the work of Octavia Butler. It will create a spreadsheet archiving the container list content from the website. The spreadsheet will contain the columns: Box, ID, Work Name, Date, Notes. \n",
    "\n",
    "// import the necessary libraries, one for downloading html and one for parsing html \n",
    "import requests library\n",
    "import beautiful soup library \n",
    "\n",
    "// go to a website and download the contents of the website, put that into a variable\n",
    "variableRequests = requests.get(\"website url\")\n",
    "\n",
    "// see the html contents of the site\n",
    "print(variableRequests.text) \n",
    "\n",
    "// feed html into beautiful soup, a library that will process, parse and analyze html\n",
    " \n",
    "// make beautiful soup object and give it html\n",
    "soup =  BeautifulSoup(variableRequests.text)\n",
    "\n",
    "// now i can extract elements from soup objects using their css selectors\n",
    "\n",
    "// use method called select. i want to select the 'div.cx' selector, and elements within in.\n",
    "selectorVariable = soup.select(\"css selector\")\n",
    "\n",
    "// remove all content in selector variable content that is not the actual content itself. \n",
    "// use for loop to go through every element to print out, not the full html, but just the text content of the element. \n",
    "\n",
    "for selectors in selectorVariable:\n",
    "    // use 'text' attribute from beautiful soup to just print out text, ignoring tags\n",
    "    print(selectors.text)\n",
    "    \n",
    "    "
   ]
  },
  {
   "cell_type": "code",
   "execution_count": null,
   "metadata": {},
   "outputs": [],
   "source": []
  }
 ],
 "metadata": {
  "kernelspec": {
   "display_name": "Python 3",
   "language": "python",
   "name": "python3"
  },
  "language_info": {
   "codemirror_mode": {
    "name": "ipython",
    "version": 3
   },
   "file_extension": ".py",
   "mimetype": "text/x-python",
   "name": "python",
   "nbconvert_exporter": "python",
   "pygments_lexer": "ipython3",
   "version": "3.8.3"
  }
 },
 "nbformat": 4,
 "nbformat_minor": 4
}
